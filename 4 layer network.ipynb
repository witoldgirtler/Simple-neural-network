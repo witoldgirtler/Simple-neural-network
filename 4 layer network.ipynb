{
 "cells": [
  {
   "cell_type": "markdown",
   "id": "conceptual-berkeley",
   "metadata": {},
   "source": [
    "Diagram of the neural network which is going to be implemented"
   ]
  },
  {
   "cell_type": "code",
   "execution_count": 1,
   "id": "defensive-bobby",
   "metadata": {},
   "outputs": [],
   "source": [
    "import numpy as np\n",
    "import matplotlib.pyplot as plt"
   ]
  },
  {
   "cell_type": "markdown",
   "id": "painful-gauge",
   "metadata": {},
   "source": [
    "### Input and output"
   ]
  },
  {
   "cell_type": "code",
   "execution_count": 2,
   "id": "standing-kidney",
   "metadata": {},
   "outputs": [
    {
     "name": "stdout",
     "output_type": "stream",
     "text": [
      "X =\n",
      " [[1 1 0 1]\n",
      " [1 0 0 1]\n",
      " [0 1 1 1]\n",
      " [0 0 1 0]\n",
      " [1 0 0 0]] \n",
      "\n",
      "y =\n",
      " [[1]\n",
      " [0]\n",
      " [1]\n",
      " [1]\n",
      " [0]]\n"
     ]
    }
   ],
   "source": [
    "X = np.array([[1, 1, 0, 1], [1, 0, 0, 1], [0, 1, 1, 1], [0, 0, 1, 0], [1, 0, 0, 0]])\n",
    "y = np.array([[1, 0, 1, 1, 0]]).T\n",
    "print('X =\\n', X, '\\n\\ny =\\n', y)"
   ]
  },
  {
   "cell_type": "markdown",
   "id": "herbal-publicity",
   "metadata": {},
   "source": [
    "### Diagram of a neural network which will be implemented"
   ]
  },
  {
   "cell_type": "markdown",
   "id": "meaning-fitting",
   "metadata": {},
   "source": [
    "<img src=\"NN.jpg\" alt=\"Drawing\" style=\"width: 700px;\"/>"
   ]
  },
  {
   "cell_type": "markdown",
   "id": "classified-radius",
   "metadata": {},
   "source": [
    "### Random weights intialization"
   ]
  },
  {
   "cell_type": "code",
   "execution_count": 13,
   "id": "exposed-dollar",
   "metadata": {},
   "outputs": [],
   "source": [
    "def weights_init():\n",
    "    np.random.seed(5)\n",
    "    w1 = np.random.rand(4,5)\n",
    "    w2 = np.random.rand(5,5)\n",
    "    w3 = np.random.rand(5,1)\n",
    "    return w1, w2, w3"
   ]
  },
  {
   "cell_type": "markdown",
   "id": "arctic-cabin",
   "metadata": {},
   "source": [
    "### Activation function and its derivative\n",
    "I will use sigmoid function returning values in range 0 to 1"
   ]
  },
  {
   "cell_type": "code",
   "execution_count": 4,
   "id": "brazilian-purpose",
   "metadata": {},
   "outputs": [],
   "source": [
    "def sig(x):\n",
    "    return 1/(1 + np.exp(-x))\n",
    "\n",
    "def sig_deriv(x):\n",
    "    return x*(1-x)"
   ]
  },
  {
   "cell_type": "markdown",
   "id": "specified-smart",
   "metadata": {},
   "source": [
    "### Forward propagation"
   ]
  },
  {
   "cell_type": "code",
   "execution_count": 5,
   "id": "textile-respondent",
   "metadata": {},
   "outputs": [],
   "source": [
    "def fp(w1, w2, w3, X):\n",
    "    z1 = np.dot(X,w1)\n",
    "    a1 = sig(z1)\n",
    "    \n",
    "    z2 = np.dot(a1,w2)\n",
    "    a2 = sig(z2)\n",
    "    \n",
    "    z3 = np.dot(a2,w3)\n",
    "    a3 = sig(z3)\n",
    "   \n",
    "    return a1, a2, a3"
   ]
  },
  {
   "cell_type": "markdown",
   "id": "native-group",
   "metadata": {},
   "source": [
    "### Back propagation"
   ]
  },
  {
   "cell_type": "code",
   "execution_count": 6,
   "id": "advisory-palestinian",
   "metadata": {},
   "outputs": [],
   "source": [
    "def bp(a1, a2, w2, a3, w3, X, y):\n",
    "    \n",
    "    da3 = y - a3\n",
    "    dz3 = da3 * sig_deriv(a3)\n",
    "    \n",
    "    da2 = np.dot(dz3, w3.T)\n",
    "    dz2 = da2 * sig_deriv(a2)\n",
    "    \n",
    "    da1 = np.dot(dz2,w2.T)\n",
    "    dz1 = da1 * sig_deriv(a1)\n",
    "    \n",
    "    return dz1, dz2 ,dz3, da3"
   ]
  },
  {
   "cell_type": "markdown",
   "id": "latest-registration",
   "metadata": {},
   "source": [
    "### Updating weights"
   ]
  },
  {
   "cell_type": "code",
   "execution_count": 7,
   "id": "angry-sussex",
   "metadata": {},
   "outputs": [],
   "source": [
    "def update_weights(w1, a1, dz1, w2, a2, dz2, w3, dz3, X):\n",
    "    w1 += np.dot(X.T, dz1)\n",
    "    w2 += np.dot(a1.T, dz2)\n",
    "    w3 += np.dot(a2.T, dz3)\n",
    "    \n",
    "    return w1, w2, w3"
   ]
  },
  {
   "cell_type": "markdown",
   "id": "olympic-revision",
   "metadata": {},
   "source": [
    "### Learning loop function"
   ]
  },
  {
   "cell_type": "code",
   "execution_count": 8,
   "id": "fuzzy-swimming",
   "metadata": {},
   "outputs": [],
   "source": [
    "def learn(w1, w2, w3, X, y, epochs):\n",
    "    \n",
    "    error = []\n",
    "    for i in range(epochs):\n",
    "        \n",
    "        a1, a2, a3 = fp(w1, w2, w3, X)\n",
    "       \n",
    "    \n",
    "        dz1, dz2, dz3, da3 = bp(a1, a2, w2, a3, w3, X, y)\n",
    "        \n",
    "        error.append(abs(np.mean(da3)))\n",
    "        if i%(epochs/10) == 0:\n",
    "            print('error: ', error[i])\n",
    "        \n",
    "        w1, w2, w3 = update_weights(w1, a1, dz1, w2, a2, dz2, w3, dz3, X)\n",
    "    \n",
    "    plt.plot(range(epochs)[:50], error[:50])\n",
    "    plt.xlabel('epoch')\n",
    "    plt.ylabel('error')\n",
    "    plt.title('Learning curve')"
   ]
  },
  {
   "cell_type": "markdown",
   "id": "printable-hearing",
   "metadata": {},
   "source": [
    "### Training the model"
   ]
  },
  {
   "cell_type": "code",
   "execution_count": 18,
   "id": "qualified-cleaner",
   "metadata": {},
   "outputs": [
    {
     "name": "stdout",
     "output_type": "stream",
     "text": [
      "error:  0.33111132524063674\n",
      "error:  0.0016081610065543192\n",
      "error:  0.0010373395283288938\n",
      "error:  0.0008253048268804294\n",
      "error:  0.000706888928122966\n",
      "error:  0.000628830270434896\n",
      "error:  0.0005724343541689198\n",
      "error:  0.0005292360851196526\n",
      "error:  0.0004947756706032011\n",
      "error:  0.00046645220557730937\n"
     ]
    },
    {
     "data": {
      "image/png": "[encoded data removed]",
      "text/plain": [
       "<Figure size 432x288 with 1 Axes>"
      ]
     },
     "metadata": {
      "needs_background": "light"
     },
     "output_type": "display_data"
    }
   ],
   "source": [
    "w1, w2, w3 = weights_init()\n",
    "learn(w1, w2, w3, X, y, 5000)"
   ]
  },
  {
   "cell_type": "markdown",
   "id": "joint-distance",
   "metadata": {},
   "source": [
    "Now i can check if the algorithm worked properly"
   ]
  },
  {
   "cell_type": "code",
   "execution_count": 22,
   "id": "higher-mining",
   "metadata": {},
   "outputs": [
    {
     "name": "stdout",
     "output_type": "stream",
     "text": [
      "results =\n",
      " [[0.99262454]\n",
      " [0.00769472]\n",
      " [0.99710149]\n",
      " [0.9944753 ]\n",
      " [0.00589078]] \n",
      "y =\n",
      " [[1]\n",
      " [0]\n",
      " [1]\n",
      " [1]\n",
      " [0]]\n"
     ]
    }
   ],
   "source": [
    "l1, l2, l3 = fp(w1, w2, w3, X)\n",
    "print('results =\\n', l3, '\\ny =\\n', y)"
   ]
  },
  {
   "cell_type": "markdown",
   "id": "dominican-personal",
   "metadata": {},
   "source": [
    "As we can se the results are highly satisfying - values almost identical to 'y'"
   ]
  }
 ],
 "metadata": {
  "kernelspec": {
   "display_name": "Python 3",
   "language": "python",
   "name": "python3"
  },
  "language_info": {
   "codemirror_mode": {
    "name": "ipython",
    "version": 3
   },
   "file_extension": ".py",
   "mimetype": "text/x-python",
   "name": "python",
   "nbconvert_exporter": "python",
   "pygments_lexer": "ipython3",
   "version": "3.7.9"
  }
 },
 "nbformat": 4,
 "nbformat_minor": 5
}
